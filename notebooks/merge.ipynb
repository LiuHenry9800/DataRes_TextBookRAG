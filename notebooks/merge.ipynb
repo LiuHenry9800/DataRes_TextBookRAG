{
 "cells": [
  {
   "cell_type": "markdown",
   "id": "brave-boston",
   "metadata": {},
   "source": [
    "## Merging\n",
    "\n",
    "This notebook is used to create a merged ProofWiki+Stacks dataset (`naturalproofs_both.json`).\n",
    "\n",
    "The combined dataset has integer reference ids that are unique across both datasets.\n",
    "\n",
    "A similar pattern could be used to merge all sources of naturalproofs, or future additional sources."
   ]
  },
  {
   "cell_type": "code",
   "execution_count": null,
   "id": "municipal-happiness",
   "metadata": {},
   "outputs": [],
   "source": [
    "proofwiki_json = './data/naturalproofs_proofwiki.json'\n",
    "stacks_json = './data/naturalproofs_stacks.json'\n",
    "\n",
    "output_json = './data/naturalproofs_both.json'"
   ]
  },
  {
   "cell_type": "code",
   "execution_count": null,
   "id": "muslim-notice",
   "metadata": {},
   "outputs": [],
   "source": [
    "import json\n",
    "\n",
    "with open(proofwiki_json) as f:\n",
    "    proofwiki = json.load(f)\n",
    "with open(stacks_json) as f:\n",
    "    stacks = json.load(f)\n",
    "\n",
    "offset = 0\n",
    "for item in proofwiki['dataset']['theorems'] + proofwiki['dataset']['definitions'] + proofwiki['dataset']['others']:\n",
    "    offset = max(offset, item['id'])\n",
    "offset += 1\n",
    "\n",
    "for item in stacks['dataset']['theorems']:\n",
    "    item['id'] += offset\n",
    "    item['ref_ids'] = [rid + offset for rid in item['ref_ids']]\n",
    "    for proof in item['proofs']:\n",
    "        proof['ref_ids'] = [rid + offset for rid in proof['ref_ids']]\n",
    "        \n",
    "for item in stacks['dataset']['definitions']:\n",
    "    item['id'] += offset\n",
    "    item['ref_ids'] = [rid + offset for rid in item['ref_ids']]\n",
    "    \n",
    "for item in stacks['dataset']['others']:\n",
    "    item['id'] += offset\n",
    "    item['ref_ids'] = [rid + offset for rid in item['ref_ids']]\n",
    "    \n",
    "stacks['dataset']['retrieval_examples'] = [e + offset for e in stacks['dataset']['retrieval_examples']]\n",
    "for split in ['train', 'valid', 'test']:\n",
    "    stacks['splits'][split]['examples'] = [(tid + offset, j) for (tid, j) in stacks['splits'][split]['examples']]\n",
    "    stacks['splits'][split]['ref_ids'] = [tid + offset for tid in stacks['splits'][split]['ref_ids']]\n",
    "\n",
    "theorems = proofwiki['dataset']['theorems'] + stacks['dataset']['theorems']\n",
    "definitions = proofwiki['dataset']['definitions'] + stacks['dataset']['definitions']\n",
    "others = proofwiki['dataset']['others'] + stacks['dataset']['others']\n",
    "retrieval_examples = proofwiki['dataset']['retrieval_examples'] + stacks['dataset']['retrieval_examples']\n",
    "\n",
    "splits = {\n",
    "    'train': {\n",
    "        'examples': proofwiki['splits']['train']['examples'] + stacks['splits']['train']['examples'],\n",
    "        'ref_ids': proofwiki['splits']['train']['ref_ids'] + stacks['splits']['train']['ref_ids'],\n",
    "    },\n",
    "    'valid': {\n",
    "        'examples': proofwiki['splits']['valid']['examples'] + stacks['splits']['valid']['examples'],\n",
    "        'ref_ids': proofwiki['splits']['valid']['ref_ids'] + stacks['splits']['valid']['ref_ids'],\n",
    "    },\n",
    "    'test': {\n",
    "        'examples': proofwiki['splits']['test']['examples'] + stacks['splits']['test']['examples'],\n",
    "        'ref_ids': proofwiki['splits']['test']['ref_ids'] + stacks['splits']['test']['ref_ids'],\n",
    "    },\n",
    "}\n",
    "\n",
    "js = {\n",
    "    'dataset': {\n",
    "        'theorems': theorems,\n",
    "        'definitions': definitions,\n",
    "        'others': others,\n",
    "        'retrieval_examples': retrieval_examples,\n",
    "    },\n",
    "    'splits': splits,\n",
    "}"
   ]
  },
  {
   "cell_type": "code",
   "execution_count": null,
   "id": "applicable-annex",
   "metadata": {},
   "outputs": [],
   "source": [
    "with open(output_json, 'w') as f:\n",
    "    json.dump(js, f, indent=4)"
   ]
  }
 ],
 "metadata": {
  "kernelspec": {
   "display_name": "Python 3",
   "language": "python",
   "name": "python3"
  },
  "language_info": {
   "codemirror_mode": {
    "name": "ipython",
    "version": 3
   },
   "file_extension": ".py",
   "mimetype": "text/x-python",
   "name": "python",
   "nbconvert_exporter": "python",
   "pygments_lexer": "ipython3",
   "version": "3.8.5"
  }
 },
 "nbformat": 4,
 "nbformat_minor": 5
}
